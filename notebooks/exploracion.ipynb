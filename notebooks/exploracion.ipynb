{
 "cells": [
  {
   "cell_type": "code",
   "execution_count": null,
   "id": "e694359d",
   "metadata": {
    "vscode": {
     "languageId": "plaintext"
    }
   },
   "outputs": [],
   "source": [
    "# =========================================\n",
    "# 🔍 EXPLORACIÓN INICIAL DE DATOS SPOTIFY\n",
    "# =========================================\n",
    "\n",
    "# 1️⃣ Importar librerías y funciones del proyecto\n",
    "import pandas as pd\n",
    "import matplotlib.pyplot as plt\n",
    "\n",
    "from src.Carga import cargar_datos\n",
    "from src.Datos.limpieza import limpieza_basica\n",
    "from src.preprocesamiento.analisis import resumen, top_artistas, top_canciones, canciones_saltadas, crear_carpeta_reportes\n",
    "\n",
    "# 2️⃣ Cargar los datos\n",
    "df = cargar_datos()\n",
    "print(\"✅ Datos cargados correctamente\")\n",
    "df.head()\n",
    "\n",
    "# 3️⃣ Información básica del DataFrame\n",
    "print(\"\\n📊 Información de los datos:\")\n",
    "df.info()\n",
    "\n",
    "print(\"\\n📈 Estadísticas básicas:\")\n",
    "display(df.describe())\n",
    "\n",
    "# 4️⃣ Limpieza de datos\n",
    "df_limpio = limpieza_basica(df)\n",
    "print(\"\\n🧹 Limpieza realizada. Registros restantes:\", len(df_limpio))\n",
    "\n",
    "# 5️⃣ Visualización rápida de algunas columnas\n",
    "plt.figure(figsize=(6,4))\n",
    "df_limpio['platform'].value_counts().plot(kind='bar', color='teal')\n",
    "plt.title(\"Número de reproducciones por plataforma\")\n",
    "plt.xlabel(\"Plataforma\")\n",
    "plt.ylabel(\"Reproducciones\")\n",
    "plt.show()\n",
    "\n",
    "# 6️⃣ Ejecutar análisis completo\n",
    "resumen(df_limpio)\n",
    "\n",
    "# 7️⃣ Ejecutar funciones individuales (opcional)\n",
    "carpeta = crear_carpeta_reportes(\"analisis_individual\")\n",
    "top_artistas(df_limpio, carpeta)\n",
    "top_canciones(df_limpio, carpeta)\n",
    "canciones_saltadas(df_limpio, carpeta)\n",
    "\n",
    "print(\"\\n✅ Exploración y análisis finalizados\")\n"
   ]
  }
 ],
 "metadata": {
  "language_info": {
   "name": "python"
  }
 },
 "nbformat": 4,
 "nbformat_minor": 5
}
